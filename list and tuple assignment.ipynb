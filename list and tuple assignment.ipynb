{
 "cells": [
  {
   "cell_type": "code",
   "execution_count": 5,
   "id": "6b20fc5a",
   "metadata": {},
   "outputs": [
    {
     "name": "stdout",
     "output_type": "stream",
     "text": [
      "[1, 2, 3, 4, 5]\n",
      "[(2, 1), (1, 2), (2, 3), (4, 4), (2, 5)]\n"
     ]
    }
   ],
   "source": [
    "tuple =[(2,5),(1,2),(4,4),(2,3),(2,1)]\n",
    "l2=[]\n",
    "l3=[]\n",
    "for t in tuple:\n",
    "    l2.append(t[1])\n",
    "l2.sort()\n",
    "print(l2)\n",
    "for l in l2:\n",
    "    for a in tuple:\n",
    "        if l==int(a[1]):\n",
    "            l3.append(a)\n",
    "print(l3)            "
   ]
  },
  {
   "cell_type": "code",
   "execution_count": null,
   "id": "f4c736bb",
   "metadata": {},
   "outputs": [],
   "source": []
  }
 ],
 "metadata": {
  "kernelspec": {
   "display_name": "Python 3 (ipykernel)",
   "language": "python",
   "name": "python3"
  },
  "language_info": {
   "codemirror_mode": {
    "name": "ipython",
    "version": 3
   },
   "file_extension": ".py",
   "mimetype": "text/x-python",
   "name": "python",
   "nbconvert_exporter": "python",
   "pygments_lexer": "ipython3",
   "version": "3.9.7"
  }
 },
 "nbformat": 4,
 "nbformat_minor": 5
}
